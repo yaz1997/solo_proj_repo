{
 "cells": [
  {
   "cell_type": "markdown",
   "metadata": {},
   "source": [
    "## Initializing spark session"
   ]
  },
  {
   "cell_type": "code",
   "execution_count": 7,
   "metadata": {},
   "outputs": [],
   "source": [
    "from pyspark.sql import SparkSession\n",
    "from pyspark.sql.functions import col, when, date_format, count, avg, stddev, mean\n",
    "from pyspark.sql.window import Window\n",
    "\n",
    "spark = SparkSession.builder.appName('solo_proj')\\\n",
    "        .config('spark.driver.extraClassPath',\"/opt/spark/jars/postgresql-42.6.0.jar\")\\\n",
    "        .getOrCreate()\n"
   ]
  },
  {
   "cell_type": "markdown",
   "metadata": {},
   "source": [
    "## Encrypting usename and password\n"
   ]
  },
  {
   "cell_type": "code",
   "execution_count": 8,
   "metadata": {},
   "outputs": [],
   "source": [
    "from dotenv import load_dotenv\n",
    "import os\n",
    "\n",
    "# Load environment variables from .env file\n",
    "load_dotenv()\n",
    "\n",
    "user = os.getenv(\"postgres_username\")\n",
    "password = os.getenv(\"postgres_password\")"
   ]
  },
  {
   "cell_type": "markdown",
   "metadata": {},
   "source": [
    "## Importing datasets to spark"
   ]
  },
  {
   "cell_type": "code",
   "execution_count": 9,
   "metadata": {},
   "outputs": [
    {
     "name": "stderr",
     "output_type": "stream",
     "text": [
      "                                                                                \r"
     ]
    }
   ],
   "source": [
    "#calendar dataframe\n",
    "data_path = \"./cleaned_csv/clean0_calendar_csv\"  \n",
    "calendar_df = spark.read.csv(data_path, header=True, inferSchema=True)\n",
    "\n",
    "#listing dataframe\n",
    "data_path = \"./cleaned_csv/clean_listing_csv\"  \n",
    "listing_df = spark.read.csv(data_path, header=True, inferSchema=True)\n",
    "\n",
    "#review calendar\n",
    "data_path = \"./cleaned_csv/clean_reviews_csv\"  \n",
    "review_df = spark.read.csv(data_path, header=True, inferSchema=True)\n",
    "\n"
   ]
  },
  {
   "cell_type": "markdown",
   "metadata": {},
   "source": [
    "## Dumping to postgres from spark\n"
   ]
  },
  {
   "cell_type": "code",
   "execution_count": 10,
   "metadata": {},
   "outputs": [
    {
     "name": "stderr",
     "output_type": "stream",
     "text": [
      "                                                                                \r"
     ]
    }
   ],
   "source": [
    "# Writing\n",
    "\n",
    "# calendar_df write\n",
    "calendar_df.write.format('jdbc').options(url='jdbc:postgresql://localhost:5432/postgres',driver = 'org.postgresql.Driver', dbtable = 'calendar_df', user = user ,password = password).mode('overwrite').save()\n",
    "\n",
    "# listing_df write\n",
    "listing_df.write.format('jdbc').options(url='jdbc:postgresql://localhost:5432/postgres',driver = 'org.postgresql.Driver', dbtable = 'listing_df', user = user,password = password).mode('overwrite').save()\n",
    "\n",
    "# review_df write\n",
    "review_df.write.format('jdbc').options(url='jdbc:postgresql://localhost:5432/postgres',driver = 'org.postgresql.Driver', dbtable = 'review_df', user = user, password = password).mode('overwrite').save()"
   ]
  },
  {
   "cell_type": "markdown",
   "metadata": {},
   "source": [
    "## Importing datasets from postgres to work on questions"
   ]
  },
  {
   "cell_type": "code",
   "execution_count": 20,
   "metadata": {},
   "outputs": [
    {
     "name": "stderr",
     "output_type": "stream",
     "text": [
      "[Stage 53:>                                                         (0 + 1) / 1]\r"
     ]
    },
    {
     "name": "stdout",
     "output_type": "stream",
     "text": [
      "+----------+----------+---------+-----+\n",
      "|listing_id|date      |available|price|\n",
      "+----------+----------+---------+-----+\n",
      "|12147973  |2017-09-05|false    |null |\n",
      "|12147973  |2017-09-04|false    |null |\n",
      "|12147973  |2017-09-03|false    |null |\n",
      "|12147973  |2017-09-02|false    |null |\n",
      "|12147973  |2017-09-01|false    |null |\n",
      "|12147973  |2017-08-31|false    |null |\n",
      "|12147973  |2017-08-30|false    |null |\n",
      "|12147973  |2017-08-29|false    |null |\n",
      "|12147973  |2017-08-28|false    |null |\n",
      "|12147973  |2017-08-27|false    |null |\n",
      "|12147973  |2017-08-26|false    |null |\n",
      "|12147973  |2017-08-25|false    |null |\n",
      "|12147973  |2017-08-24|false    |null |\n",
      "|12147973  |2017-08-23|false    |null |\n",
      "|12147973  |2017-08-22|false    |null |\n",
      "|12147973  |2017-08-21|false    |null |\n",
      "|12147973  |2017-08-20|false    |null |\n",
      "|12147973  |2017-08-19|false    |null |\n",
      "|12147973  |2017-08-18|false    |null |\n",
      "|12147973  |2017-08-17|false    |null |\n",
      "+----------+----------+---------+-----+\n",
      "only showing top 20 rows\n",
      "\n"
     ]
    },
    {
     "name": "stderr",
     "output_type": "stream",
     "text": [
      "                                                                                \r"
     ]
    }
   ],
   "source": [
    "calendar_df = spark.read \\\n",
    "    .format(\"jdbc\") \\\n",
    "    .option(\"url\", \"jdbc:postgresql://localhost:5432/postgres\") \\\n",
    "    .option(\"dbtable\", \"calendar_df\") \\\n",
    "    .option(\"user\", user) \\\n",
    "    .option(\"password\", password) \\\n",
    "    .option(\"driver\", \"org.postgresql.Driver\") \\\n",
    "    .load()\n",
    "calendar_df.show(truncate=False)"
   ]
  },
  {
   "cell_type": "code",
   "execution_count": 21,
   "metadata": {},
   "outputs": [
    {
     "name": "stdout",
     "output_type": "stream",
     "text": [
      "+--------+-------------------------------------+---------------------------------------------+-----------------------------------------------------------------------------------------------------------------------------------------------------------------------------------------------------------------------------------------------------------------------------------------------------------------------------------------------------------------------------------------------------------------------------------------------------------------------------------------------------------------------------------------------------------------------------------------------------------------------------------------------------------------------------------------------------------------------------------------------------------------------------------------------------------------------------------------------------------------------------------------------------------------------------------------------------------------------------------------------------------------------------------+-----------+----------------------------------+------------------+------------------+--------------------+-----------------+----------+-------------------------------------------------+----------+-----+-------+-------------+---------------+------------+---------+--------+-----+-----------------+\n",
      "|id      |listing_url                          |name                                         |space                                                                                                                                                                                                                                                                                                                                                                                                                                                                                                                                                                                                                                                                                                                                                                                                                                                                                                                                                                                                                              |host_name  |host_location                     |host_response_time|host_response_rate|host_acceptance_rate|host_is_superhost|host_since|street                                           |city      |state|zipcode|property_type|room_type      |accommodates|bathrooms|bedrooms|price|number_of_reviews|\n",
      "+--------+-------------------------------------+---------------------------------------------+-----------------------------------------------------------------------------------------------------------------------------------------------------------------------------------------------------------------------------------------------------------------------------------------------------------------------------------------------------------------------------------------------------------------------------------------------------------------------------------------------------------------------------------------------------------------------------------------------------------------------------------------------------------------------------------------------------------------------------------------------------------------------------------------------------------------------------------------------------------------------------------------------------------------------------------------------------------------------------------------------------------------------------------+-----------+----------------------------------+------------------+------------------+--------------------+-----------------+----------+-------------------------------------------------+----------+-----+-------+-------------+---------------+------------+---------+--------+-----+-----------------+\n",
      "|12147973|https://www.airbnb.com/rooms/12147973|Sunny Bungalow in the City                   |The house has an open and cozy feel at the same time.  The living room has a flat screen TV.  The kitchen has all you need for cooking.  We prefer you buy your food but can use the organic oils herbs etc.   The yard can be seen from sitting room and when the weather allows the yard is a place children can lose themselves in a safe way.  We have 2 bee hives 6 hens fenced in (sometimes they get out of their coop area & into the yard) 2 rabbits in a hutch and play structure.                                                                                                                                                                                                                                                                                                                                                                                                                                                                                                                                       |Virginia   |Boston Massachusetts United States|N/A               |N/A               |N/A                 |false            |2015-04-15|Birch Street Boston MA 02131 United States       |Boston    |MA   |2131   |House        |Entire home/apt|4           |1.5      |2       |25000|0                |\n",
      "|3075044 |https://www.airbnb.com/rooms/3075044 |Charming room in pet friendly apt            |Small but cozy and quite room with a full size bed. Ample street parking.                                                                                                                                                                                                                                                                                                                                                                                                                                                                                                                                                                                                                                                                                                                                                                                                                                                                                                                                                          |Andrea     |Boston Massachusetts United States|within an hour    |100%              |100%                |false            |2012-06-07|Pinehurst Street Boston MA 02131 United States   |Boston    |MA   |2131   |Apartment    |Private room   |2           |1.0      |1       |6500 |36               |\n",
      "|6976    |https://www.airbnb.com/rooms/6976    |Mexican Folk Art Haven in Boston             |Come stay with a friendly middle-aged guy in the safe and quiet Roslindale neighborhood of Boston. You will have you own clean furnished room (with cable TV Wi-Fi and a desk to work at) in an apartment that is filled with Mexican folk art. This is a well-maintained two-family house built in the 1940s. My apartment is on the second floor. This is a pet and smoke-free apartment.   PRICE: Price includes ALL utilities (heat electricity Wi-Fi cable TV air conditioner) parking in street and use of back yard. NO SMOKING indoors or outside. Note that the bed is a size \"Full\" mattress not a Queen or a King. This is ideal for one guest but if it is two people traveling together you can fit two in the bed or the second person can sleep in the living room on the long couch. (Not a fold-out couch but comfortable). Additional fee for the second person is $20. The price listed is for one person.  I offer discounted rates for stays of one week or longer.   Guests get free coffee and a            |Phil       |Boston Massachusetts United States|within a few hours|100%              |88%                 |true             |2009-05-11|Ardale St. Boston MA 02131 United States         |Boston    |MA   |2131   |Apartment    |Private room   |2           |1.0      |1       |6500 |41               |\n",
      "|1436513 |https://www.airbnb.com/rooms/1436513 |Spacious Sunny Bedroom Suite in Historic Home|Most places you find in Boston are small however our bedroom suite is large. The bedroom has plush down pillows and a down comforter. The mattress is fitted with a memory foam topper that gives each guest the best sleep. The leather couches are cozy.  The large leather couch can be converted to a bed. The television has been updated to a smart tv therefore you can access most tv programs through there including HBO Showtime and Cinemax. If you want to enjoy cable television there is a tv in the kitchen. The kitchen has a gas burner dishwasher garbage disposal music system and a space in the fridge to keep your items.                                                                                                                                                                                                                                                                                                                                                                                   |Meghna     |Boston Massachusetts United States|within a few hours|100%              |50%                 |false            |2013-04-21|Boston MA United States                          |Boston    |MA   |null   |House        |Private room   |4           |1.0      |1       |7500 |1                |\n",
      "|7651065 |https://www.airbnb.com/rooms/7651065 |Come Home to Boston                          |Clean attractive private room one block from the bus line on a quiet safe street. Two comfy single beds. Full bath and one half bath shared with 1-2 others. Kitchen privileges and breakfast included. Air Conditioned. Five minute walk to shops.                                                                                                                                                                                                                                                                                                                                                                                                                                                                                                                                                                                                                                                                                                                                                                                |Linda      |Boston Massachusetts United States|within an hour    |100%              |100%                |true             |2014-05-11|Durnell Avenue Boston MA 02131 United States     |Boston    |MA   |2131   |House        |Private room   |2           |1.5      |1       |7900 |29               |\n",
      "|12386020|https://www.airbnb.com/rooms/12386020|Private Bedroom + Great Coffee               |Our sunny condo is located on the second and third floors of a 2-family home. Our guest bedroom and private bath are on the first floor of our unit. In addition to the guest quarters we have a large airy living room that you're welcome to relax in and a three-season porch off the back. I feel fortunate to have a home that's the best of both worlds: convenient to the city but peaceful with conservation land behind us and the Arnold Arboretum just down the street.  In addition to our small family we have two cats (one of whom guests will never see).                                                                                                                                                                                                                                                                                                                                                                                                                                                          |Deborah    |Boston Massachusetts United States|within a few hours|100%              |95%                 |true             |2016-03-23|Walter Street Boston MA 02131 United States      |Boston    |MA   |2131   |Condominium  |Private room   |2           |1.0      |1       |7500 |8                |\n",
      "|5706985 |https://www.airbnb.com/rooms/5706985 |New Lrg Studio apt 15 min to Boston          |The whole house was recently redone and it 's only a 5 minute walk into Rosi Square- the new hip area of Boston - with the train into downtown Boston  (15 minute train ride)  several good restaurants grocery bakery etc. Free wifi and off street parking. This studio is in the basement and has a private separate entrance under the back deck.  The ceilings are a bit over 8 feet tall and the windows are located just below the ceiling. The kitchen does NOT have an oven. It only has a small fridge microwave fancy toaster oven and coffee pot.  I may be in residence upstairs in the rest of the house but I travel frequently/ or from time to time the main house also may be a separate Airbnb rental. As such you may hear footsteps above you. In addition the water heater for the house is located in the utility area of this level as is a separate furnace for this studio so you can control your own temperature.                                                                                      |Juliet     |Milton Massachusetts United States|within an hour    |98%               |96%                 |false            |2013-05-25|Kittredge Street Boston MA 02131 United States   |Boston    |MA   |2131   |Apartment    |Entire home/apt|3           |1.0      |1       |10000|57               |\n",
      "|2843445 |https://www.airbnb.com/rooms/2843445 |\"Tranquility\" on \"Top of the Hill\"           |We provide a bedroom and full shared bath.  Rates are dropped by 10% for the winter months.  See below!  From the front of the house you have a panoramic view of Boston and from the back deck you have a private space overlooking our spacious back yard and the greenery of the neighborhood.  We provide the towels and the linens.   (For the summer months we have air conditioning in the bedrooms)  Our home is impeccably clean.  We vacuum dust and clean everywhere before and after our guests arrive and depart.  Rate explanation - $70/night for the first guest $85/night for an additional guest in the same room.  Use of another room is an additional $70/night for the second room.  See our listing at Sub\"Urban\" Vacationing Rm. 2.  We will respond to your inquiry withing 6-8 hrs or sooner so please be a little patient while waiting.  In order to best accommodate our guests we ask that requests/inquiries be made at least 48 hours in advance.  This is because we care about you and we want to|Marilyn    |Boston Massachusetts United States|within a few hours|100%              |100%                |true             |2012-08-05|Cornell Street Boston MA 02131 United States     |Boston    |MA   |2131   |House        |Private room   |2           |2.0      |1       |7500 |67               |\n",
      "|753446  |https://www.airbnb.com/rooms/753446  |6 miles away from downtown Boston!           |Nice and cozy apartment about 6 miles away to downtown Boston and only about 30 minutes via public transportation with plenty of street parking. It is a 5 minute walk from Rolsindale Village where you can find public transportation a Supermarket a Bakery and a ton of great bars and restaurants. It is also 1 mile from Forest Hills Station:  Bus/Subway/Train. It is conveniently located with a small town atmosphere and just minutes to the city.  The bedroom is about 8 x 8 with a bunk bed for 2 guests including a dresser closet and a small desk. No TV. Shared bathroom. Amenities include: Free WIFI internet. Fresh towels. Pets: 1 cat.                                                                                                                                                                                                                                                                                                                                                                      |Sami       |Boston Massachusetts United States|within an hour    |100%              |100%                |true             |2012-10-24|Sycamore St Roslindale MA 02131 United States    |Roslindale|MA   |2131   |Condominium  |Private room   |2           |1.0      |1       |5800 |65               |\n",
      "|849408  |https://www.airbnb.com/rooms/849408  |Perfect & Practical Boston Rental            |Perfect apartment rental for those in town visiting family and friends or for people who just need the temporary extra space.  Very comfortable cozy and convenient.   * Open and airy with lots of windows and light  * Large living room and dining room  * Gumwood architectural period detail and character  * Kitchen w/gas stove and breakfast bar and all the appliances you need * Refinished hardwood oak floors throughout  * Shared porch (couch grill bistro table tv) and backyard with patio (dining table and lounge furniture) * Laundry in unit * Driveway parking (negotiable) for 3 vehicles and plenty on street parking (no permits required) * 7-8 min walk to Needham line commuter rail. Short bus ride to Forrest Hills T (orange line).  * On a major bus line * 10-15 minute drive to Fenway/downtown * Wireless internet and cable included * Smoke free Note: This unit is 5-6 miles outside of downtown so please take location into consideration before you book.  Shops market and restaurants a  |Damon      |Boston Massachusetts United States|within an hour    |100%              |100%                |true             |2012-12-18|Centre Street Boston MA 02131 United States      |Boston    |MA   |2131   |Apartment    |Entire home/apt|5           |1.0      |2       |22900|33               |\n",
      "|5434353 |https://www.airbnb.com/rooms/5434353 |Quiet  Beauty in Boston                      |Large living and dining area. Sprawling space. Grand piano.                                                                                                                                                                                                                                                                                                                                                                                                                                                                                                                                                                                                                                                                                                                                                                                                                                                                                                                                                                        |Anthony    |Boston Massachusetts United States|within a day      |75%               |100%                |false            |2013-10-27|Tyndale Street Boston MA 02131 United States     |Boston    |MA   |2131   |House        |Entire home/apt|2           |1.5      |2       |14500|7                |\n",
      "|225979  |https://www.airbnb.com/rooms/225979  |Cozy Room & Fresh Roasted Coffee             |This is a charming bright and sunny apartment with views of the Boston skyline and is absolutely a comfortable professional and safe place for both men and women. You will awake each morning to the smell of fresh brewed coffee - roasted here by me from exotic green beans. Pair this with some fresh baked artisan bread that I typically have on hand. If you love coffee and fresh home made bread it doesn't get any better then this. If you are interested I might give you a lesson or two on how to roast your own coffee. In addition to fresh baked bread toasted with jam additional breakfast offerings may include cereal bagels with cream cheese or on occassion a Colombian breakfast of arepa egg and cheese. It's delicioso and high protein breakfast a great way to start the day. Roslindale Village is a 6 minute walk away and is a lively and charming village square that has many fine restaurants coffee shops market specialty shops and farmer's market on Saturdays from June throug            |Duane      |Boston Massachusetts United States|within an hour    |100%              |79%                 |false            |2011-09-18|Augustus Ave Boston MA 02131 United States       |Boston    |MA   |2131   |Apartment    |Private room   |1           |0.0      |1       |6000 |70               |\n",
      "|3420384 |https://www.airbnb.com/rooms/3420384 |Convient Safe and Comfortable                |Extra large studio with wifi cable original Fenway Park seats patio grill hot tub laundry Charlie Cards complimentary pass for 4 to the Museum of Fine Arts.                                                                                                                                                                                                                                                                                                                                                                                                                                                                                                                                                                                                                                                                                                                                                                                                                                                                       |Cynthia    |Boston Massachusetts United States|within a few hours|100%              |100%                |false            |2011-03-09|Doncaster Street Boston MA 02131 United States   |Boston    |MA   |2131   |House        |Private room   |4           |1.0      |1       |16500|1                |\n",
      "|2583074 |https://www.airbnb.com/rooms/2583074 |Cozy room in a charming villa.               |The room is cozy and private. The house is less than a minute to public transportation. It is around the corner from the 'Pleasant Café\" restaurant.                                                                                                                                                                                                                                                                                                                                                                                                                                                                                                                                                                                                                                                                                                                                                                                                                                                                               |Mohamed    |Boston Massachusetts United States|within a few hours|100%              |94%                 |true             |2014-03-17|Cedrus Avenue Boston MA 02131 United States      |Boston    |MA   |2131   |Villa        |Private room   |1           |2.5      |1       |4000 |31               |\n",
      "|13251243|https://www.airbnb.com/rooms/13251243|Arborside Guest Cottage                      |Today the cottage could be called a \"tiny house\" with 400 square feet of thoughtfully laid-out living space. The vaulted ceiling and open-concept design give it a roomy feel. There is a spiral staircase leading from the ground floor living room to a large sleeping loft with great views of the surrounding neighborhood and parkland. Please see picture to see if stairs are accessible for you.  Downstairs is furnished for comfort  and function with a twin sleeper sofa leather chairs and internet TV.   The dry kitchen area has a small refrigerator microwave toaster oven coffee maker and an electric kettle.  Most appropriate for light breakfasts lunch and snacks. There is no stove or oven and the sink is in the bathroom. With all the great restaurants who wants to cook anyway!  We provide disposable dishes and cutlery or you can use the dishware and stainless. The large closet includes hanging space a luggage rack and drawers for your clothes. The private bathroom is downstairs and ha  |Carl & Judy|Boston Massachusetts United States|within an hour    |100%              |100%                |false            |2016-05-28|Weld Street Roslindale MA 02131 United States    |Roslindale|MA   |2131   |House        |Entire home/apt|3           |1.0      |0       |12000|16               |\n",
      "|225834  |https://www.airbnb.com/rooms/225834  |Skyline View to Boston                       |After a good nights' sleep you will wake each morning to the smell of fresh brewed coffee - roasted here by me from exotic green beans. Pair this with some fresh baked artisan bread that I bake and typically have on hand. If you love coffee and fresh home made bread it doesn't get any better then this. If you are interested I might give you a lesson or two on how to roast your own coffee. In addition to fresh baked bread toasted with jam additional breakfast offerings may include cereal bagels with cream cheese or on occassion a Colombian breakfast of arepa egg and cheese. It's delicioso and a high protein breakfast a great way to start the day. At the end of the day I occassionally offer a fresh baked baguette with a sampling of quality cheeses. Current coffee offerings are listed at the end of this description. This room offers a rare and unique unobstructed view of the Boston skyline that includes privacy. All nearby buildings are below eye level from this bedroom. You can     |Duane      |Boston Massachusetts United States|within an hour    |100%              |79%                 |false            |2011-09-18|Augustus Ave Boston MA 02131 United States       |Boston    |MA   |2131   |Apartment    |Private room   |2           |0.0      |1       |7000 |38               |\n",
      "|6400432 |https://www.airbnb.com/rooms/6400432 |Spacious 3 bedroom cape cod style            |This Cape Cod style home features two bedrooms (one king-sized one with two twins) and kitchen newly remodeled bathroom and a large open living and dining area all on the first floor. Downstairs leads to a walk-out basement playroom with laundry half bath and TV area with a queen-sized sofa bed.  Also in the basement is our third bedroom (queen-sized) which opens onto the backyard and patio through lovely glass sliding doors.  There is a large gas grill  patio furniture and backyard for your use.  Driveway fits one car.  A bus stop directly in front of the house brings you to Forest Hills T Station on the Orange line from which all parts of Boston area easily accessible.  Downtown Boston is 15 minutes by car. Walk to Roslindale Village for the Commuter Rail shops restaurants public library post office and amazing Farmer's Market on Saturdays.  This would be a great place to bring kids: 10 minutes by car to the Franklin Park Zoo 20 minutes to the Blue Hills Reservation and         |Jesús      |Boston Massachusetts United States|within a day      |100%              |63%                 |false            |2014-10-29|Metropolitan Ave Boston MA 02131 United States   |Boston    |MA   |2131   |House        |Entire home/apt|8           |1.0      |3       |15000|21               |\n",
      "|2621242 |https://www.airbnb.com/rooms/2621242 |Lovely one bedroom Apt                       |This quaint one bed room apartment is located in the heart of Jamaica Plain. It comfortably accommodates two. Within walking distance to jogging and biking trail parks dinning and shopping.                                                                                                                                                                                                                                                                                                                                                                                                                                                                                                                                                                                                                                                                                                                                                                                                                                      |Leo        |Boston Massachusetts United States|N/A               |N/A               |N/A                 |false            |2014-03-22|Chestnut Avenue Boston MA 02130 United States    |Boston    |MA   |2130   |Apartment    |Entire home/apt|2           |1.0      |1       |11000|6                |\n",
      "|5498472 |https://www.airbnb.com/rooms/5498472 |4BD/3.5BA Perfect for families!              |Our 2400+ square foot home is a hidden gem tucked away at the end of a private lane in a residential neighborhood.  Surrounded by trees the property has a spacious private and safe front yard for playing with kids or just relaxing in the hammock.   Our home has 4 bedrooms including 2 en suites (one king bed one queen bed) and two additional bedrooms (one twin bed) though one is currently set up as an office.  There is a lot of unused space (the office could fit a twin bed or crib the basement could sleep a bunch of people) but we only have beds set up for 5 people currently. We have a basement playroom with a treadmill and way more toys than we need!  Our home has cable TV TVs in the living room both master bedrooms and the basement wireless internet air conditioning (for those warm summer days) back deck BBQ fully stocked kitchen and bath laundry and off street parking.  We are nonsmokers and our home is extremely clean and comfortable. Ideally we would like to rent              |Colette    |Boston Massachusetts United States|N/A               |N/A               |N/A                 |false            |2015-02-28|Chisholm Lane Boston MA 02131 United States      |Boston    |MA   |2131   |House        |Entire home/apt|5           |3.5      |4       |17500|1                |\n",
      "|894539  |https://www.airbnb.com/rooms/894539  |Private room in house                        |Large private room in a large house near the Arnold Arboretum in the Roslindale section of Boston. The Arboretum offers 281 acres with a living collection of trees shrubs and woody vines and is recognized as one of the most comprehensive and best documented of its kind in the world. House is on a one way block long street and is quiet.  Room is on the second floor in the back of the house next to a large bathroom with washer and drier available for use.  There is good natural light as well as privacy. It's an easy walk to Roslindale Square where you will find Commuter rail and buses to anywhere you want to go.  Roslindale has one of the city's best farmers' markets as well as excellent restaurants. Easy access to downtown Boston and Cambridge Great restaurants and shops nearby. Internet access cable and parking included Use of kitchen or shared meals.                                                                                                                                    |Jennifer   |Boston Massachusetts United States|within an hour    |100%              |92%                 |true             |2013-01-19|Ashfield Street Roslindale MA 02131 United States|Roslindale|MA   |2131   |House        |Private room   |2           |1.5      |1       |9500 |40               |\n",
      "+--------+-------------------------------------+---------------------------------------------+-----------------------------------------------------------------------------------------------------------------------------------------------------------------------------------------------------------------------------------------------------------------------------------------------------------------------------------------------------------------------------------------------------------------------------------------------------------------------------------------------------------------------------------------------------------------------------------------------------------------------------------------------------------------------------------------------------------------------------------------------------------------------------------------------------------------------------------------------------------------------------------------------------------------------------------------------------------------------------------------------------------------------------------+-----------+----------------------------------+------------------+------------------+--------------------+-----------------+----------+-------------------------------------------------+----------+-----+-------+-------------+---------------+------------+---------+--------+-----+-----------------+\n",
      "only showing top 20 rows\n",
      "\n"
     ]
    }
   ],
   "source": [
    "listing_df = spark.read \\\n",
    "    .format(\"jdbc\") \\\n",
    "    .option(\"url\", \"jdbc:postgresql://localhost:5432/postgres\") \\\n",
    "    .option(\"dbtable\", \"listing_df\") \\\n",
    "    .option(\"user\", user) \\\n",
    "    .option(\"password\", password) \\\n",
    "    .option(\"driver\", \"org.postgresql.Driver\") \\\n",
    "    .load()\n",
    "listing_df.show(truncate=False)\n"
   ]
  },
  {
   "cell_type": "code",
   "execution_count": 22,
   "metadata": {},
   "outputs": [
    {
     "name": "stdout",
     "output_type": "stream",
     "text": [
      "+----------+--------+----------+-----------+-------------+---------------------------------------------------------------------------------------------------------------------------------------------------------------------------------------------------------------------------------------------------------------------------------------------------------------------------------------------------------------------------------------------------------------------------------------------------------------------------------------------------------------------------------------------------------------------------------------------------------------------------------------------------------------------------------------------------------------------------------------------------------------------------+\n",
      "|listing_id|id      |date      |reviewer_id|reviewer_name|comments                                                                                                                                                                                                                                                                                                                                                                                                                                                                                                                                                                                                                                                                                                                                                                   |\n",
      "+----------+--------+----------+-----------+-------------+---------------------------------------------------------------------------------------------------------------------------------------------------------------------------------------------------------------------------------------------------------------------------------------------------------------------------------------------------------------------------------------------------------------------------------------------------------------------------------------------------------------------------------------------------------------------------------------------------------------------------------------------------------------------------------------------------------------------------------------------------------------------------+\n",
      "|2021274   |21385054|2014-10-16|21101112   |Janice       |The pictures and description was accurate . The kitchen picture was correct. There was not a picture of the living, bedroom and bath area. They were also very nice and in a similar style. The neighborhood location was perfect, and convenient to the public transportation, which we did use. There were several nice local restaurants, which Evy had suggested. The house was close to the water, and was a great place to run.                                                                                                                                                                                                                                                                                                                                      |\n",
      "|2021274   |21604591|2014-10-20|12931803   |Julieta      |We had a great time with Evy. The communication with her was really good and the place is spacious and clean. The area has restaurants and bars and it's a couple of blocks away from the bus stop that takes you downtown in 15 minutes.  The only con for us was that the mattress is really soft but that's a personal preference. We definitely recommend it! Evy is a great host!                                                                                                                                                                                                                                                                                                                                                                                     |\n",
      "|2021274   |21923489|2014-10-26|21918370   |Matthew      |Our check in and check out with Evy was seamless. Although we didn't meet her in person during our stay, we did meet Roscoe, her dog who was a pleasure to be around ( be sure to keep your shoes in your room otherwise they may become an object of play for the pup!). If you don't mind transiting into town by bus or paying for a cab, this place is a good place to stay. It is not close to the subway station. The neighborhood was quiet and felt safe when we were walking around at night.                                                                                                                                                                                                                                                                     |\n",
      "|2021274   |22147206|2014-10-31|2125908    |Ana          |Evy and Khai were wonderful hosts. Their duplex is very charming and the basement apartment is spacious and comfortable.  The location is great for taking buses and there were always Ubers near by.  The only complaint I had is that the bathroom didn't seem just cleaned. I felt like I was using someone else's bathroom so I found a spray cleaner and just wiped it down myself.  Overall I do recommend the space.                                                                                                                                                                                                                                                                                                                                                |\n",
      "|2021274   |22276595|2014-11-02|12454066   |Michelle     |Even though we had to change our arrival time a couple of times, Evy was very understanding and replied quickly. As soon as we walked through the door, we were greeted by her cute dog who was fun to play with! The basement was comfortable and had plenty of space. Evy recommended us to a couple of great restaurants, including Neptune's which was delicious! The location is great and only a couple of minutes from downtown Boston. Evy was a great host and made sure that we had everything we needed.                                                                                                                                                                                                                                                        |\n",
      "|2021274   |22581287|2014-11-10|18901298   |Tetsuro      |Evy was a wonderful host. She reply to all the message very quickly, and help us stay very comfortably. I definitely recommend this place to  everyone.                                                                                                                                                                                                                                                                                                                                                                                                                                                                                                                                                                                                                    |\n",
      "|2021274   |23652959|2014-12-07|592946     |Josiah       |Great place to stay near the heart of Boston. Our hosts were very accommodating and responsive to inquiries and requests.  Best to find overnight parking somewhere out of the neighborhood and take a bus to the house.                                                                                                                                                                                                                                                                                                                                                                                                                                                                                                                                                   |\n",
      "|2021274   |25347851|2015-01-12|22689152   |Amy          |The reservation was canceled 95 days before arrival. This is an automated posting.                                                                                                                                                                                                                                                                                                                                                                                                                                                                                                                                                                                                                                                                                         |\n",
      "|2021274   |26668014|2015-02-16|27746109   |Michael      |Evy was an amazing host! She accommodated me even on short notice and an impending blizzard. The room and space I stayed in was immaculate. Her wonderful house made me feel cozy and welcomed. Not to mention the beautiful dog she has, Roscoe! If you are looking for a place to stay in Boston, Evy's place should be highly considered.                                                                                                                                                                                                                                                                                                                                                                                                                               |\n",
      "|2021274   |27483497|2015-03-05|10845194   |Emily        |This was an excellent AirBNB experience and a great value. The guest area is an entire floor with a living room and fire place.  Everything is very high quality and luxurious. Evy and her partner were very helpful and friendly. I will stay here everytime I have to come to Boston.                                                                                                                                                                                                                                                                                                                                                                                                                                                                                   |\n",
      "|2021274   |27764716|2015-03-11|5164301    |Bee          |The neighborhood is quiet and quaint. Lots of useful stuff within walking distance, cabs come quickly and get you where you need to go. A cab from here to BCEC is about $6-7, so no big deal.    The place is lovely and well appointed.  Gorgeous, comfortable bathroom with jacuzzi tub that definitely helped me and my travel partner after long days of convention staff work.  Beds were comfortable.  The place is well lit, warm and fees like home.  The cutest dog ever lives here.  Evy and her partner are amazing, gracious and attentive hosts.   Highly recommend.                                                                                                                                                                                         |\n",
      "|2021274   |28989974|2015-04-02|22955222   |Siew Sun     |Evy, Kai, and Rosco (a cute & handsome dog) made me feel very welcome throughout my stay.  The house is locate in a safe and beautiful neighborhood.  I could easily walk 25 mins to the convention center, or take Bus 7.  Living in a place with a kitchen when I travel has really helped me eat healthily.                                                                                                                                                                                                                                                                                                                                                                                                                                                             |\n",
      "|2021274   |29151457|2015-04-04|8730782    |Bill         |This place is really really nice, clean, quiet, and the host is extremely friendly. Highly recommended to anyone. An excellent value for the price, for any price.                                                                                                                                                                                                                                                                                                                                                                                                                                                                                                                                                                                                         |\n",
      "|2021274   |30626677|2015-04-25|2005117    |Mohammed     |The host (Evy) was very nice, welcoming, and kind. Whenever I wanted anything, I would just talk to/text her. The place is separated in two floors, main and guests floor. The guest floor is modern and comfortable, however, it isn't as large as it looks in the pictures.  The neighborhood is so nice and quite, narrow roads with nearby shops. Don't bring a car with you to avoid troubles with parkings, like what happened to me.                                                                                                                                                                                                                                                                                                                                |\n",
      "|2021274   |31555696|2015-05-06|1243033    |Jason        |It was a pleasure staying at Evy's place - it is on a quiet street and the space was neat and clean - plus Evy and her husband are great people! Highly recommend.                                                                                                                                                                                                                                                                                                                                                                                                                                                                                                                                                                                                         |\n",
      "|2021274   |31679523|2015-05-08|31306134   |Mohit        |Evy is a gracious hostess. From her busy schedule she found time to fire up the grill and we enjoyed the conversation over BBQ. She made the whole process very easy for a newcomer on Airbnb, she made it all ok!! Her home is very welcoming and it is a short walk to the ocean where I enjoyed running for miles.  The neighborhood is safe no concerns about walking after dark!  I hope to stay again at Evy's and I would encourage anyone trying Airbnb in Boston to look her up!  Thanks again, Evy!                                                                                                                                                                                                                                                              |\n",
      "|2021274   |31741287|2015-05-09|1243033    |Jason        |It was a pleasure to stay with Evy again - she is a gracious host.                                                                                                                                                                                                                                                                                                                                                                                                                                                                                                                                                                                                                                                                                                         |\n",
      "|2021274   |31906539|2015-05-11|28720414   |Latha        |The location was great, rooms as described and prefect for a short stay - really close to the airport which was great for us.                                                                                                                                                                                                                                                                                                                                                                                                                                                                                                                                                                                                                                              |\n",
      "|2021274   |34167638|2015-06-05|34441736   |Jacob        |Evy was very accommodating considering my flight changes and odd work schedule.  All of my expectations for the stay were met, and I would highly recommend Evy to anyone looking to visit Boston.  The area is decent and with Uber I was able to get where I needed quickly.  Rosco was also great!                                                                                                                                                                                                                                                                                                                                                                                                                                                                      |\n",
      "|2021274   |34258317|2015-06-06|21834164   |Jan          |Evy could not have been a more communicative, charming and welcoming host. The apartment was just as described. The guest space was impeccable and large. The bed was comfortable and it was great having a private bathroom. This was, without a doubt, better than staying in a hotel room! Evy was also super helpful in acquainting me with where to pick up the bus in the morning. Roscoe is also a very friendly and welcoming dog! Evy also left a couple bottles of her own cold-brewed tea - it was delicious and I was very impressed. One thing to note that I hadn't read in any of the other comments:  house rules are that you take off your shoes by the front door; you may want to bring slippers with you since the downstairs area is all bare floors.|\n",
      "+----------+--------+----------+-----------+-------------+---------------------------------------------------------------------------------------------------------------------------------------------------------------------------------------------------------------------------------------------------------------------------------------------------------------------------------------------------------------------------------------------------------------------------------------------------------------------------------------------------------------------------------------------------------------------------------------------------------------------------------------------------------------------------------------------------------------------------------------------------------------------------+\n",
      "only showing top 20 rows\n",
      "\n"
     ]
    }
   ],
   "source": [
    "review_df = spark.read \\\n",
    "    .format(\"jdbc\") \\\n",
    "    .option(\"url\", \"jdbc:postgresql://localhost:5432/postgres\") \\\n",
    "    .option(\"dbtable\", \"review_df\") \\\n",
    "    .option(\"user\", user) \\\n",
    "    .option(\"password\", password) \\\n",
    "    .option(\"driver\", \"org.postgresql.Driver\") \\\n",
    "    .load()\n",
    "review_df.show(truncate=False)"
   ]
  },
  {
   "cell_type": "markdown",
   "metadata": {},
   "source": [
    "## Questions:"
   ]
  },
  {
   "cell_type": "markdown",
   "metadata": {},
   "source": [
    "## 1. Host Portfolio Growth Analysis: Identify hosts who have significantly grown their portfolio over time by calculating the percentage increase in the number of listings they manage. Analyze any common characteristics among these hosts."
   ]
  },
  {
   "cell_type": "code",
   "execution_count": 14,
   "metadata": {},
   "outputs": [
    {
     "name": "stdout",
     "output_type": "stream",
     "text": [
      "+--------+---------+-------------+-------------------------------------+-----+----------+------------------+\n",
      "|id      |host_name|property_type|host_location                        |price|host_since|portfolio_growth  |\n",
      "+--------+---------+-------------+-------------------------------------+-----+----------+------------------+\n",
      "|4089940 |Adam     |Apartment    |Boston Massachusetts United States   |24900|2014-09-02|100.0             |\n",
      "|4546333 |Adam     |Apartment    |Boston Massachusetts United States   |19500|2014-09-02|50.0              |\n",
      "|4489490 |Adam     |Apartment    |Boston Massachusetts United States   |22900|2014-09-02|33.33333333333333 |\n",
      "|4075898 |Adam     |Apartment    |Boston Massachusetts United States   |28900|2014-09-02|25.0              |\n",
      "|4118162 |Adam     |Apartment    |Boston Massachusetts United States   |28900|2014-09-02|20.0              |\n",
      "|4510513 |Adam     |Apartment    |Boston Massachusetts United States   |22900|2014-09-02|16.666666666666664|\n",
      "|13078148|Adam     |Apartment    |Boston Massachusetts United States   |23900|2014-09-02|14.285714285714285|\n",
      "|11431331|Adam     |Apartment    |Boston Massachusetts United States   |28900|2014-09-02|12.5              |\n",
      "|9541295 |Adam     |Apartment    |Boston Massachusetts United States   |28900|2014-09-02|11.11111111111111 |\n",
      "|2747654 |Ahmed    |Apartment    |Cambridge Massachusetts United States|15000|2012-05-12|100.0             |\n",
      "|1240598 |Ahmed    |Apartment    |Cambridge Massachusetts United States|15200|2012-05-12|50.0              |\n",
      "|4924009 |Ahmed    |Apartment    |Cambridge Massachusetts United States|12800|2012-05-12|33.33333333333333 |\n",
      "|4275846 |Ahmed    |Apartment    |Cambridge Massachusetts United States|15000|2012-05-12|25.0              |\n",
      "|1873046 |Ahmed    |Apartment    |Cambridge Massachusetts United States|18400|2012-05-12|20.0              |\n",
      "|14650655|Ahmed    |Apartment    |Cambridge Massachusetts United States|12500|2012-05-12|16.666666666666664|\n",
      "|2892825 |Aihua    |House        |Boston Massachusetts United States   |45000|2014-04-27|100.0             |\n",
      "|6576530 |Aihua    |House        |Boston Massachusetts United States   |45000|2014-04-27|50.0              |\n",
      "|13978700|Aihua    |Apartment    |Boston Massachusetts United States   |45000|2014-04-27|33.33333333333333 |\n",
      "|6838488 |Aihua    |House        |Boston Massachusetts United States   |55000|2014-04-27|25.0              |\n",
      "|4526384 |Aihua    |Apartment    |Boston Massachusetts United States   |40000|2014-04-27|20.0              |\n",
      "+--------+---------+-------------+-------------------------------------+-----+----------+------------------+\n",
      "only showing top 20 rows\n",
      "\n"
     ]
    }
   ],
   "source": [
    "import pyspark.sql.functions as F\n",
    "\n",
    "window_spec = Window.partitionBy(\"host_name\").orderBy(\"host_since\")\n",
    "\n",
    "# Calculate the number of listings each month for each host\n",
    "listing_df_date = listing_df.withColumn(\"month\", F.month(\"host_since\"))\n",
    "listing_df_date = listing_df_date.withColumn(\"year\", F.year(\"host_since\"))\n",
    "\n",
    "listing_df_date = listing_df_date.withColumn(\"listing_count\", F.row_number().over(window_spec))\n",
    "\n",
    "# listing_df_date.show()\n",
    "\n",
    "# Calculate the percentage increase in listings count for each host each month\n",
    "listing_df_inc = listing_df_date.withColumn(\"prev_listing_count\", F.lag(\"listing_count\").over(window_spec))\n",
    "listing_df_inc = listing_df_inc.withColumn(\"portfolio_growth\",\n",
    "                                   ((listing_df_inc[\"listing_count\"] - listing_df_inc[\"prev_listing_count\"]) / listing_df_inc[\"prev_listing_count\"]) * 100)\n",
    "\n",
    "# Define a threshold for significant growth (e.g., 50%)\n",
    "threshold = 10\n",
    "\n",
    "# Filter hosts with significant growth\n",
    "significant_growth_hosts = listing_df_inc.filter(listing_df_inc[\"portfolio_growth\"] > threshold)\n",
    "\n",
    "# Select common characteristics of these hosts\n",
    "common_characteristics = significant_growth_hosts.select(\"id\", \"host_name\", \"property_type\", \"host_location\", \"price\", \"host_since\", \"portfolio_growth\")\n",
    "\n",
    "common_characteristics.show(truncate=False)\n",
    "\n",
    "# common_characteristics.select(F.col(\"portfolio_growth\")).distinct().show()\n",
    "\n",
    "# common_characteristics.select(col(\"host_name\")).distinct().show()"
   ]
  },
  {
   "cell_type": "markdown",
   "metadata": {},
   "source": [
    "## 2. Calculate the booking rate (percentage of available dates booked) for each listing, considering the day of the week. Identify listings with significant booking rate fluctuations based on the day of the week. Also, display the day with highest average booking rate and the create a pivot that shows days of a week and the average booking rates for each."
   ]
  },
  {
   "cell_type": "code",
   "execution_count": 15,
   "metadata": {},
   "outputs": [
    {
     "name": "stderr",
     "output_type": "stream",
     "text": [
      "                                                                                \r"
     ]
    },
    {
     "name": "stdout",
     "output_type": "stream",
     "text": [
      "+----------+----------+---------+-----+-----------+--------------------+-----------------+-----------------+-------------------+\n",
      "|listing_id|      date|available|price|day_of_week|cumulative_available|cumulative_booked|     booking_rate|booking_rate_stddev|\n",
      "+----------+----------+---------+-----+-----------+--------------------+-----------------+-----------------+-------------------+\n",
      "|     76073|2016-09-10|    false| null|        Sat|                   0|                1|            100.0| 29.175545805717448|\n",
      "|     76073|2016-09-17|    false| null|        Sat|                   0|                2|            100.0| 29.175545805717448|\n",
      "|     76073|2016-09-24|    false| null|        Sat|                   0|                3|            100.0| 29.175545805717448|\n",
      "|     76073|2016-10-01|    false| null|        Sat|                   0|                4|            100.0| 29.175545805717448|\n",
      "|     76073|2016-10-08|    false| null|        Sat|                   0|                5|            100.0| 29.175545805717448|\n",
      "|     76073|2016-10-15|    false| null|        Sat|                   0|                6|            100.0| 29.175545805717448|\n",
      "|     76073|2016-10-22|    false| null|        Sat|                   0|                7|            100.0| 29.175545805717448|\n",
      "|     76073|2016-10-29|    false| null|        Sat|                   0|                8|            100.0| 29.175545805717448|\n",
      "|     76073|2016-11-05|    false| null|        Sat|                   0|                9|            100.0| 29.175545805717448|\n",
      "|     76073|2016-11-12|    false| null|        Sat|                   0|               10|            100.0| 29.175545805717448|\n",
      "|     76073|2016-11-19|     true|40000|        Sat|                   1|               10| 90.9090909090909| 29.175545805717448|\n",
      "|     76073|2016-11-26|     true|42500|        Sat|                   2|               10|83.33333333333334| 29.175545805717448|\n",
      "|     76073|2016-12-03|     true|40000|        Sat|                   3|               10|76.92307692307693| 29.175545805717448|\n",
      "|     76073|2016-12-10|     true|40000|        Sat|                   4|               10|71.42857142857143| 29.175545805717448|\n",
      "|     76073|2016-12-17|     true|40000|        Sat|                   5|               10|66.66666666666666| 29.175545805717448|\n",
      "|     76073|2016-12-24|     true|40000|        Sat|                   6|               10|             62.5| 29.175545805717448|\n",
      "|     76073|2016-12-31|     true|42500|        Sat|                   7|               10|58.82352941176471| 29.175545805717448|\n",
      "|     76073|2017-01-07|     true|40000|        Sat|                   8|               10|55.55555555555556| 29.175545805717448|\n",
      "|     76073|2017-01-14|     true|40000|        Sat|                   9|               10|52.63157894736842| 29.175545805717448|\n",
      "|     76073|2017-01-21|     true|40000|        Sat|                  10|               10|             50.0| 29.175545805717448|\n",
      "+----------+----------+---------+-----+-----------+--------------------+-----------------+-----------------+-------------------+\n",
      "only showing top 20 rows\n",
      "\n"
     ]
    },
    {
     "name": "stderr",
     "output_type": "stream",
     "text": [
      "                                                                                \r"
     ]
    },
    {
     "name": "stdout",
     "output_type": "stream",
     "text": [
      "Day with the highest average booking rate: Fri\n"
     ]
    },
    {
     "name": "stderr",
     "output_type": "stream",
     "text": [
      "[Stage 35:===========================================>              (3 + 1) / 4]\r"
     ]
    },
    {
     "name": "stdout",
     "output_type": "stream",
     "text": [
      "+---------+------------------+\n",
      "|DayOfWeek|  TotalBookingRate|\n",
      "+---------+------------------+\n",
      "|      Sun|54.337953274653145|\n",
      "|      Mon|53.884000214830486|\n",
      "|      Thu| 55.72767399610233|\n",
      "|      Sat|56.168091151865134|\n",
      "|      Wed| 55.11690001256105|\n",
      "|      Tue|55.759815030187475|\n",
      "|      Fri|  56.1992393290885|\n",
      "+---------+------------------+\n",
      "\n"
     ]
    },
    {
     "name": "stderr",
     "output_type": "stream",
     "text": [
      "                                                                                \r"
     ]
    }
   ],
   "source": [
    "# Extract the day of the week from the date column\n",
    "calendar_df_date = calendar_df.withColumn(\"day_of_week\", date_format(col(\"date\"), \"E\"))\n",
    "\n",
    "# Define a window specification to calculate cumulative available and booked days\n",
    "window_spec = Window.partitionBy(\"listing_id\", \"day_of_week\").orderBy(\"date\")\n",
    "\n",
    "# Calculate cumulative available and booked days\n",
    "calendar_df_cum = calendar_df_date.withColumn(\"cumulative_available\", count(when(col(\"available\") == \"true\", 1)).over(window_spec))\n",
    "calendar_df_cum = calendar_df_cum.withColumn(\"cumulative_booked\", count(when(col(\"available\") == \"false\", 1)).over(window_spec))\n",
    "\n",
    "# Calculate the booking rate (percentage of available dates booked) for each day of the week\n",
    "calendar_df_rate = calendar_df_cum.withColumn(\"booking_rate\", (col(\"cumulative_booked\") / (col(\"cumulative_available\") + col(\"cumulative_booked\"))) * 100)\n",
    "\n",
    "# Calculate the standard deviation of booking rates for each listing and day of the week\n",
    "stddev_window = Window.partitionBy(\"listing_id\", \"day_of_week\")\n",
    "calendar_df_stddev = calendar_df_rate.withColumn(\"booking_rate_stddev\", stddev(col(\"booking_rate\")).over(stddev_window))\n",
    "calendar_df_mean = calendar_df_rate.withColumn(\"booking_rate_mean\", mean(col(\"booking_rate\")).over(stddev_window))\n",
    "\n",
    "threshold = 29  \n",
    "\n",
    "fluctuating_listings = calendar_df_stddev.filter(col(\"booking_rate_stddev\") > threshold)\n",
    "\n",
    "# fluctuating_listings.select(col(\"booking_rate_stddev\")).distinct().show()\n",
    "\n",
    "fluctuating_listings.show()\n",
    "\n",
    "# avg booking rate for each day of the week\n",
    "avg_booking_rate_by_day = calendar_df_rate.groupBy(\"day_of_week\") \\\n",
    "    .agg(avg(\"booking_rate\").alias(\"avg_booking_rate\"))\n",
    "\n",
    "# day with the highest avg booking rate\n",
    "highest_avg_booking_day = avg_booking_rate_by_day.orderBy(col(\"avg_booking_rate\").desc()).first()\n",
    "\n",
    "print(\"Day with the highest average booking rate:\", highest_avg_booking_day[\"day_of_week\"])\n",
    "\n",
    "# Pivot table to show days of a week and their total booking rates.\n",
    "pivot_table = avg_booking_rate_by_day.withColumnRenamed(\"day_of_week\", \"DayOfWeek\").withColumnRenamed(\"avg_booking_rate\", \"TotalBookingRate\")\n",
    "pivot_table.show()"
   ]
  },
  {
   "cell_type": "markdown",
   "metadata": {},
   "source": [
    "## Dumping the output dataframes to postgres\n"
   ]
  },
  {
   "cell_type": "code",
   "execution_count": 16,
   "metadata": {},
   "outputs": [
    {
     "name": "stderr",
     "output_type": "stream",
     "text": [
      "23/09/13 14:25:07 WARN package: Truncated the string representation of a plan since it was too large. This behavior can be adjusted by setting 'spark.sql.debug.maxToStringFields'.\n",
      "                                                                                \r"
     ]
    }
   ],
   "source": [
    "# Writing outputs to beaver\n",
    "\n",
    "# output for first question write\n",
    "common_characteristics.write.format('jdbc').options(url='jdbc:postgresql://localhost:5432/postgres',driver = 'org.postgresql.Driver', dbtable = 'output_1', user = user, password = password).mode('overwrite').save()\n",
    "\n",
    "# output for second question write\n",
    "fluctuating_listings.write.format('jdbc').options(url='jdbc:postgresql://localhost:5432/postgres',driver = 'org.postgresql.Driver', dbtable = 'output_2', user = user, password = password).mode('overwrite').save()\n",
    "\n",
    "# output for second question write\n",
    "pivot_table.write.format('jdbc').options(url='jdbc:postgresql://localhost:5432/postgres',driver = 'org.postgresql.Driver', dbtable = 'output_2_1', user = user ,password = password).mode('overwrite').save()"
   ]
  },
  {
   "cell_type": "code",
   "execution_count": null,
   "metadata": {},
   "outputs": [],
   "source": []
  }
 ],
 "metadata": {
  "kernelspec": {
   "display_name": "Python 3",
   "language": "python",
   "name": "python3"
  },
  "language_info": {
   "codemirror_mode": {
    "name": "ipython",
    "version": 3
   },
   "file_extension": ".py",
   "mimetype": "text/x-python",
   "name": "python",
   "nbconvert_exporter": "python",
   "pygments_lexer": "ipython3",
   "version": "3.10.12"
  },
  "orig_nbformat": 4
 },
 "nbformat": 4,
 "nbformat_minor": 2
}
